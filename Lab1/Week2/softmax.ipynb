{
 "cells": [
  {
   "cell_type": "markdown",
   "metadata": {},
   "source": [
    "# Softmax exercise\n",
    "\n",
    "*Complete and hand in this completed worksheet (including its outputs and any supporting code outside of the worksheet) with your assignment submission.*\n",
    "\n",
    "In this exercise, you will:\n",
    "\n",
    "- implement a fully-vectorized **loss function** for the Softmax classifier\n",
    "- implement the fully-vectorized expression for its **analytic gradient**\n",
    "- **check your implementation** with numerical gradient\n",
    "- use a validation set to **tune the learning rate and regularization** strength\n",
    "- **optimize** the loss function with **SGD**\n",
    "- **visualize** the final learned weights\n"
   ]
  },
  {
   "cell_type": "markdown",
   "metadata": {},
   "source": [
    "**Acknowledgement: This exercise is adapted from [Stanford CS231n](http://cs231n.stanford.edu/).**"
   ]
  },
  {
   "cell_type": "code",
   "execution_count": 1,
   "metadata": {},
   "outputs": [],
   "source": [
    "import random\n",
    "import numpy as np\n",
    "from data_utils import load_CIFAR10\n",
    "import matplotlib.pyplot as plt\n",
    "\n",
    "%matplotlib inline\n",
    "plt.rcParams['figure.figsize'] = (10.0, 8.0) # set default size of plots\n",
    "plt.rcParams['image.interpolation'] = 'nearest'\n",
    "plt.rcParams['image.cmap'] = 'gray'\n",
    "\n",
    "# for auto-reloading extenrnal modules\n",
    "# see http://stackoverflow.com/questions/1907993/autoreload-of-modules-in-ipython\n",
    "%load_ext autoreload\n",
    "%autoreload 2"
   ]
  },
  {
   "cell_type": "code",
   "execution_count": 2,
   "metadata": {},
   "outputs": [],
   "source": [
    "def rel_error(out, correct_out):\n",
    "    return np.sum(abs(out - correct_out) / (abs(out) + abs(correct_out)))"
   ]
  },
  {
   "cell_type": "code",
   "execution_count": 3,
   "metadata": {},
   "outputs": [
    {
     "name": "stdout",
     "output_type": "stream",
     "text": [
      "Train data shape:  (49000, 3073)\n",
      "Train labels shape:  (49000,)\n",
      "Validation data shape:  (1000, 3073)\n",
      "Validation labels shape:  (1000,)\n",
      "Test data shape:  (1000, 3073)\n",
      "Test labels shape:  (1000,)\n",
      "dev data shape:  (500, 3073)\n",
      "dev labels shape:  (500,)\n"
     ]
    }
   ],
   "source": [
    "def get_CIFAR10_data(num_training=49000, num_validation=1000, num_test=1000, num_dev=500):\n",
    "    \"\"\"\n",
    "    Load the CIFAR-10 dataset from disk and perform preprocessing to prepare\n",
    "    it for the linear classifier. These are the same steps as we used for the\n",
    "    Softmax, but condensed to a single function.  \n",
    "    \"\"\"\n",
    "    # Load the raw CIFAR-10 data\n",
    "    cifar10_dir = 'datasets/cifar-10-batches-py'\n",
    "    X_train, y_train, X_test, y_test = load_CIFAR10(cifar10_dir)\n",
    "\n",
    "    # subsample the data\n",
    "    mask = range(num_training, num_training + num_validation)\n",
    "    X_val = X_train[mask]\n",
    "    y_val = y_train[mask]\n",
    "    mask = range(num_training)\n",
    "    X_train = X_train[mask]\n",
    "    y_train = y_train[mask]\n",
    "    mask = range(num_test)\n",
    "    X_test = X_test[mask]\n",
    "    y_test = y_test[mask]\n",
    "    \n",
    "    # # We will also make a development set, which is a small subset of\n",
    "    # the training set.\n",
    "    mask = np.random.choice(num_training, num_dev, replace=False)\n",
    "    X_dev = X_train[mask]\n",
    "    y_dev = y_train[mask]\n",
    "\n",
    "    # Preprocessing: reshape the image data into rows\n",
    "    X_train = np.reshape(X_train, (X_train.shape[0], -1))\n",
    "    X_val = np.reshape(X_val, (X_val.shape[0], -1))\n",
    "    X_test = np.reshape(X_test, (X_test.shape[0], -1))\n",
    "    X_dev = np.reshape(X_dev, (X_dev.shape[0], -1))\n",
    "\n",
    "    # Normalize the data: subtract the mean image\n",
    "    mean_image = np.mean(X_train, axis = 0)\n",
    "    X_train -= mean_image\n",
    "    X_val -= mean_image\n",
    "    X_test -= mean_image\n",
    "    X_dev -= mean_image\n",
    "\n",
    "    # add bias dimension and transform into columns\n",
    "    X_train = np.hstack([X_train, np.ones((X_train.shape[0], 1))])\n",
    "    X_val = np.hstack([X_val, np.ones((X_val.shape[0], 1))])\n",
    "    X_test = np.hstack([X_test, np.ones((X_test.shape[0], 1))])\n",
    "    X_dev = np.hstack([X_dev, np.ones((X_dev.shape[0], 1))])\n",
    "\n",
    "    return X_train, y_train, X_val, y_val, X_test, y_test, X_dev, y_dev\n",
    "\n",
    "\n",
    "# Invoke the above function to get our data.\n",
    "X_train, y_train, X_val, y_val, X_test, y_test, X_dev, y_dev = get_CIFAR10_data()\n",
    "print('Train data shape: ', X_train.shape)\n",
    "print('Train labels shape: ', y_train.shape)\n",
    "print('Validation data shape: ', X_val.shape)\n",
    "print('Validation labels shape: ', y_val.shape)\n",
    "print('Test data shape: ', X_test.shape)\n",
    "print('Test labels shape: ', y_test.shape)\n",
    "print('dev data shape: ', X_dev.shape)\n",
    "print('dev labels shape: ', y_dev.shape)"
   ]
  },
  {
   "cell_type": "code",
   "execution_count": 4,
   "metadata": {},
   "outputs": [],
   "source": [
    "# Create one-hot vectors for label\n",
    "num_class = 10\n",
    "y_train_oh = np.zeros((y_train.shape[0], 10))\n",
    "y_train_oh[np.arange(y_train.shape[0]), y_train] = 1\n",
    "y_val_oh = np.zeros((y_val.shape[0], 10))\n",
    "y_val_oh[np.arange(y_val.shape[0]), y_val] = 1\n",
    "y_test_oh = np.zeros((y_test.shape[0], 10))\n",
    "y_test_oh[np.arange(y_test.shape[0]), y_test] = 1\n",
    "\n",
    "y_dev_oh = np.zeros((y_dev.shape[0], 10))\n",
    "y_dev_oh[np.arange(y_dev.shape[0]), y_dev] = 1"
   ]
  },
  {
   "cell_type": "markdown",
   "metadata": {},
   "source": [
    "# Regression as classifier\n",
    "The most simple and straightforward approach to learn a classifier is to map the input data (raw image values) to class label (one-hot vector). The loss function is defined as following: \n",
    "$$\\mathcal{L}=\\frac{1}{n}\\|\\mathbf{X}\\mathbf{W}-\\mathbf{y}\\|_F^2\\qquad\\qquad(1)$$\n",
    "Where:\n",
    "* $\\mathbf{W}\\in \\mathbb{R}^{(d+1)\\times C}$: Classifier weight\n",
    "* $\\mathbf{X}\\in \\mathbb{R}^{n\\times (d+1)}$: Dataset\n",
    "* $\\mathbf{y}\\in \\mathbb{R}^{n\\times C}$: Class label (one-hot vector)"
   ]
  },
  {
   "cell_type": "markdown",
   "metadata": {},
   "source": [
    "# Optimization\n",
    "Given the loss function (1), the next problem is how to solve the weight $\\mathbf{W}$. We now discuss 2 approaches: \n",
    " * Random search\n",
    " * Closed-form solution\n",
    "\n",
    "## Random search"
   ]
  },
  {
   "cell_type": "code",
   "execution_count": 5,
   "metadata": {},
   "outputs": [
    {
     "name": "stdout",
     "output_type": "stream",
     "text": [
      "in attempt 0 the loss was 33.582473, best 33.582473\n",
      "in attempt 1 the loss was 33.151411, best 33.151411\n",
      "in attempt 2 the loss was 34.060314, best 33.151411\n",
      "in attempt 3 the loss was 33.483781, best 33.151411\n",
      "in attempt 4 the loss was 34.124161, best 33.151411\n",
      "in attempt 5 the loss was 36.042411, best 33.151411\n",
      "in attempt 6 the loss was 30.396108, best 30.396108\n",
      "in attempt 7 the loss was 34.377433, best 30.396108\n",
      "in attempt 8 the loss was 32.339072, best 30.396108\n",
      "in attempt 9 the loss was 33.098049, best 30.396108\n",
      "in attempt 10 the loss was 31.776301, best 30.396108\n",
      "in attempt 11 the loss was 33.175270, best 30.396108\n",
      "in attempt 12 the loss was 34.583924, best 30.396108\n",
      "in attempt 13 the loss was 35.024506, best 30.396108\n",
      "in attempt 14 the loss was 36.278006, best 30.396108\n",
      "in attempt 15 the loss was 34.539236, best 30.396108\n",
      "in attempt 16 the loss was 32.471853, best 30.396108\n",
      "in attempt 17 the loss was 33.675807, best 30.396108\n",
      "in attempt 18 the loss was 33.561812, best 30.396108\n",
      "in attempt 19 the loss was 32.935879, best 30.396108\n",
      "in attempt 20 the loss was 32.560187, best 30.396108\n",
      "in attempt 21 the loss was 32.761407, best 30.396108\n",
      "in attempt 22 the loss was 31.944454, best 30.396108\n",
      "in attempt 23 the loss was 32.318174, best 30.396108\n",
      "in attempt 24 the loss was 39.620378, best 30.396108\n",
      "in attempt 25 the loss was 35.405500, best 30.396108\n",
      "in attempt 26 the loss was 33.210200, best 30.396108\n",
      "in attempt 27 the loss was 32.040109, best 30.396108\n",
      "in attempt 28 the loss was 32.320600, best 30.396108\n",
      "in attempt 29 the loss was 33.876588, best 30.396108\n",
      "in attempt 30 the loss was 32.174741, best 30.396108\n",
      "in attempt 31 the loss was 34.438933, best 30.396108\n",
      "in attempt 32 the loss was 33.226952, best 30.396108\n",
      "in attempt 33 the loss was 34.056744, best 30.396108\n",
      "in attempt 34 the loss was 36.137535, best 30.396108\n",
      "in attempt 35 the loss was 33.879759, best 30.396108\n",
      "in attempt 36 the loss was 35.858069, best 30.396108\n",
      "in attempt 37 the loss was 33.275046, best 30.396108\n",
      "in attempt 38 the loss was 33.436651, best 30.396108\n",
      "in attempt 39 the loss was 35.916490, best 30.396108\n",
      "in attempt 40 the loss was 31.862604, best 30.396108\n",
      "in attempt 41 the loss was 33.311017, best 30.396108\n",
      "in attempt 42 the loss was 33.927559, best 30.396108\n",
      "in attempt 43 the loss was 35.237503, best 30.396108\n",
      "in attempt 44 the loss was 35.204896, best 30.396108\n",
      "in attempt 45 the loss was 35.191080, best 30.396108\n",
      "in attempt 46 the loss was 31.937680, best 30.396108\n",
      "in attempt 47 the loss was 32.097098, best 30.396108\n",
      "in attempt 48 the loss was 34.278371, best 30.396108\n",
      "in attempt 49 the loss was 33.609081, best 30.396108\n",
      "in attempt 50 the loss was 34.416437, best 30.396108\n",
      "in attempt 51 the loss was 33.757514, best 30.396108\n",
      "in attempt 52 the loss was 33.726897, best 30.396108\n",
      "in attempt 53 the loss was 34.943323, best 30.396108\n",
      "in attempt 54 the loss was 33.680930, best 30.396108\n",
      "in attempt 55 the loss was 34.261402, best 30.396108\n",
      "in attempt 56 the loss was 33.206197, best 30.396108\n",
      "in attempt 57 the loss was 32.958731, best 30.396108\n",
      "in attempt 58 the loss was 34.476734, best 30.396108\n",
      "in attempt 59 the loss was 32.915780, best 30.396108\n",
      "in attempt 60 the loss was 33.334069, best 30.396108\n",
      "in attempt 61 the loss was 31.914777, best 30.396108\n",
      "in attempt 62 the loss was 34.449233, best 30.396108\n",
      "in attempt 63 the loss was 32.755969, best 30.396108\n",
      "in attempt 64 the loss was 35.686176, best 30.396108\n",
      "in attempt 65 the loss was 32.415641, best 30.396108\n",
      "in attempt 66 the loss was 32.602658, best 30.396108\n",
      "in attempt 67 the loss was 33.324057, best 30.396108\n",
      "in attempt 68 the loss was 31.979204, best 30.396108\n",
      "in attempt 69 the loss was 33.238344, best 30.396108\n",
      "in attempt 70 the loss was 33.184331, best 30.396108\n",
      "in attempt 71 the loss was 32.226554, best 30.396108\n",
      "in attempt 72 the loss was 35.012092, best 30.396108\n",
      "in attempt 73 the loss was 33.559345, best 30.396108\n",
      "in attempt 74 the loss was 36.948118, best 30.396108\n",
      "in attempt 75 the loss was 32.597221, best 30.396108\n",
      "in attempt 76 the loss was 31.660661, best 30.396108\n",
      "in attempt 77 the loss was 30.962877, best 30.396108\n",
      "in attempt 78 the loss was 33.173233, best 30.396108\n",
      "in attempt 79 the loss was 32.730932, best 30.396108\n",
      "in attempt 80 the loss was 34.699659, best 30.396108\n",
      "in attempt 81 the loss was 32.531057, best 30.396108\n",
      "in attempt 82 the loss was 33.317665, best 30.396108\n",
      "in attempt 83 the loss was 34.386962, best 30.396108\n",
      "in attempt 84 the loss was 30.104229, best 30.104229\n",
      "in attempt 85 the loss was 33.658480, best 30.104229\n",
      "in attempt 86 the loss was 32.886392, best 30.104229\n",
      "in attempt 87 the loss was 34.390233, best 30.104229\n",
      "in attempt 88 the loss was 36.394523, best 30.104229\n",
      "in attempt 89 the loss was 31.260392, best 30.104229\n",
      "in attempt 90 the loss was 33.374472, best 30.104229\n",
      "in attempt 91 the loss was 34.828597, best 30.104229\n",
      "in attempt 92 the loss was 34.737387, best 30.104229\n",
      "in attempt 93 the loss was 33.102730, best 30.104229\n",
      "in attempt 94 the loss was 33.689829, best 30.104229\n",
      "in attempt 95 the loss was 31.814645, best 30.104229\n",
      "in attempt 96 the loss was 32.120434, best 30.104229\n",
      "in attempt 97 the loss was 32.911278, best 30.104229\n",
      "in attempt 98 the loss was 32.266507, best 30.104229\n",
      "in attempt 99 the loss was 31.446064, best 30.104229\n"
     ]
    }
   ],
   "source": [
    "bestloss = float('inf')\n",
    "for num in range(100):\n",
    "    W = np.random.randn(3073, 10) * 0.0001\n",
    "    loss = np.linalg.norm(X_dev.dot(W) - y_dev_oh)\n",
    "    if (loss < bestloss):\n",
    "        bestloss = loss\n",
    "        bestW = W\n",
    "    print('in attempt %d the loss was %f, best %f' % (num, loss, bestloss))"
   ]
  },
  {
   "cell_type": "code",
   "execution_count": 6,
   "metadata": {},
   "outputs": [
    {
     "name": "stdout",
     "output_type": "stream",
     "text": [
      "Accuracy on train set:  10.8\n",
      "Accuracy on test set:  8.4\n"
     ]
    }
   ],
   "source": [
    "# How bestW perform:\n",
    "print('Accuracy on train set: ', np.sum(np.argmin(np.abs(1 - X_dev.dot(W)), axis=1) == y_dev).astype(np.float32)/y_dev.shape[0]*100)\n",
    "print('Accuracy on test set: ', np.sum(np.argmin(np.abs(1 - X_test.dot(W)), axis=1) == y_test).astype(np.float32)/y_test.shape[0]*100)"
   ]
  },
  {
   "cell_type": "markdown",
   "metadata": {},
   "source": [
    "You can clearly see that the performance is very low, almost at the random level."
   ]
  },
  {
   "cell_type": "markdown",
   "metadata": {},
   "source": [
    "## Closed-form solution\n",
    "The closed-form solution is achieved by:\n",
    "$$\\frac{\\partial\\mathcal{L}}{\\partial \\mathbf{W}}=\\frac{2}{n}\\mathbf{X}^T(\\mathbf{X}\\mathbf{W}-\\mathbf{y})=0$$\n",
    "\n",
    "$$\\Leftrightarrow\\mathbf{W}^\\ast=(\\mathbf{X}^T\\mathbf{X})^{-1}\\mathbf{X}^T\\mathbf{y}$$"
   ]
  },
  {
   "cell_type": "code",
   "execution_count": 7,
   "metadata": {},
   "outputs": [],
   "source": [
    "################################################################################\n",
    "# TODO:                                                                        #\n",
    "# Implement the closed-form solution of the weight W.                          #\n",
    "################################################################################\n",
    "W = np.dot( np.dot( np.linalg.inv( np.dot(X_train.T, X_train) ), X_train.T ), \n",
    "           y_train_oh )\n",
    "################################################################################\n",
    "#                              END OF YOUR CODE                                #\n",
    "################################################################################"
   ]
  },
  {
   "cell_type": "code",
   "execution_count": 8,
   "metadata": {},
   "outputs": [
    {
     "name": "stdout",
     "output_type": "stream",
     "text": [
      "Train set accuracy:  51.163265306122454\n",
      "Test set accuracy:  36.199999999999996\n"
     ]
    }
   ],
   "source": [
    "# Check accuracy:\n",
    "print('Train set accuracy: ', np.sum(np.argmin(np.abs(1 - X_train.dot(W)), axis=1) == y_train).astype(np.float32)/y_train.shape[0]*100)\n",
    "print('Test set accuracy: ', np.sum(np.argmin(np.abs(1 - X_test.dot(W)), axis=1) == y_test).astype(np.float32)/y_test.shape[0]*100)"
   ]
  },
  {
   "cell_type": "markdown",
   "metadata": {},
   "source": [
    "Now, you can see that the performance is much better."
   ]
  },
  {
   "cell_type": "markdown",
   "metadata": {},
   "source": [
    "## Regularization\n",
    "A simple way to improve performance is to include the L2-regularization penalty.\n",
    "$$\\mathcal{L}=\\frac{1}{n}\\|\\mathbf{X}\\mathbf{W}-\\mathbf{y}\\|_F^2 +\\lambda \\|\\mathbf{W}\\|_F^2 \\qquad\\qquad(2)$$\n",
    "The closed-form solution now is: \n",
    "$$\\Leftrightarrow\\mathbf{W}^\\ast=(\\mathbf{X}^T\\mathbf{X}+\\lambda n\\mathbf{I})^{-1}\\mathbf{X}^T\\mathbf{y}$$"
   ]
  },
  {
   "cell_type": "code",
   "execution_count": 9,
   "metadata": {},
   "outputs": [],
   "source": [
    "# try several values of lambda to see how it helps:\n",
    "lambdas = [0.01, 0.1, 1, 10, 100, 1000, 10000, 100000]\n",
    "train_acc = np.zeros((len(lambdas)))\n",
    "test_acc = np.zeros((len(lambdas)))\n",
    "for i in range(len(lambdas)):\n",
    "    l = lambdas[i]\n",
    "    n,d = X_train.shape[0], X_train.shape[1]\n",
    "    ################################################################################\n",
    "    # TODO:                                                                        #\n",
    "    # Implement the closed-form solution of the weight W with regularization.      #\n",
    "    ################################################################################\n",
    "    W = np.dot( np.dot( np.linalg.inv(np.dot(X_train.T, X_train) + l*n*np.identity(d)), \n",
    "                       X_train.T ), y_train_oh )\n",
    "    ################################################################################\n",
    "    #                              END OF YOUR CODE                                #\n",
    "    ################################################################################\n",
    "    train_acc[i] = np.sum(np.argmin(np.abs(1 - X_train.dot(W)), axis=1) == y_train).astype(np.float32)/y_train.shape[0]*100\n",
    "    test_acc[i]  = np.sum(np.argmin(np.abs(1 - X_test.dot(W)), axis=1) == y_test).astype(np.float32)/y_test.shape[0]*100"
   ]
  },
  {
   "cell_type": "code",
   "execution_count": 10,
   "metadata": {},
   "outputs": [
    {
     "data": {
      "image/png": "[encoded data removed]",
      "text/plain": [
       "<Figure size 720x576 with 1 Axes>"
      ]
     },
     "metadata": {
      "needs_background": "light"
     },
     "output_type": "display_data"
    }
   ],
   "source": [
    "plt.semilogx(lambdas, train_acc, 'r', label=\"Training accuracy\")\n",
    "plt.semilogx(lambdas, test_acc, 'g', label=\"Testing accuracy\")\n",
    "\n",
    "plt.legend()\n",
    "plt.grid(True)\n",
    "plt.show()"
   ]
  },
  {
   "cell_type": "markdown",
   "metadata": {},
   "source": [
    "**Question:** Try to explain why the performances on the training and test set have such behaviors as we change the value of $\\lambda$."
   ]
  },
  {
   "cell_type": "markdown",
   "metadata": {},
   "source": [
    "**Your answer:** As the value of lambda increases, larger weights are penalised even more heavily. This reduces the classifier's performance on the training set as seen by the decreasing training accuracy, but helps it to generalise better and reduce overfitting as seen by the increasing testing accuracy. However, past lambda = 1000, both accuracies start to decrease. This could be because the lambda value is too large and starts to overtake the impact of the weights, which prevents the classifier from learning meaningfully."
   ]
  },
  {
   "cell_type": "markdown",
   "metadata": {},
   "source": [
    "## Softmax Classifier\n",
    "\n",
    "The predicted probability for the $j$-th class given a sample vector $x$ and a weight $W$ is:\n",
    "\n",
    "$$\\displaystyle{P(y=j\\mid x)=\\frac{e^{-xw_j}}{\\sum\\limits_{c=1}^{C}e^{-xw_c}}}$$ \n",
    "\n",
    "![softmax](imgs/softmax.png \"Example of Softmax\")\n",
    "\n",
    "Your code for this section will all be written inside **classifiers/softmax.py**. \n"
   ]
  },
  {
   "cell_type": "code",
   "execution_count": 15,
   "metadata": {
    "scrolled": true
   },
   "outputs": [
    {
     "name": "stdout",
     "output_type": "stream",
     "text": [
      "loss: 2.328018\n",
      "sanity check: 2.302585\n"
     ]
    }
   ],
   "source": [
    "# First implement the naive softmax loss function with nested loops.\n",
    "# Open the file classifiers/softmax.py and implement the\n",
    "# softmax_loss_naive function.\n",
    "\n",
    "from classifiers.softmax import softmax_loss_naive\n",
    "import time\n",
    "\n",
    "# Generate a random softmax weight matrix and use it to compute the loss.\n",
    "W = np.random.randn(3073, 10) * 0.0001\n",
    "loss, grad = softmax_loss_naive(W, X_dev, y_dev, 0.0)\n",
    "\n",
    "# As a rough sanity check, our loss should be something close to -log(0.1).\n",
    "print('loss: %f' % loss)\n",
    "print('sanity check: %f' % (-np.log(0.1)))"
   ]
  },
  {
   "cell_type": "markdown",
   "metadata": {},
   "source": [
    "**Question:** Why do we expect our loss to be close to -log(0.1)? Explain briefly.**"
   ]
  },
  {
   "cell_type": "markdown",
   "metadata": {},
   "source": [
    "**Your answer:** Since there are ten classes for the randomly generated weights, the expected accuracy of the classifier is 10%, or 0.1. As a result, the average cross entropy loss across all the samples should be -log(0.1)."
   ]
  },
  {
   "cell_type": "markdown",
   "metadata": {},
   "source": [
    "# Optimization\n",
    "\n",
    "\n",
    "## Random search"
   ]
  },
  {
   "cell_type": "code",
   "execution_count": 16,
   "metadata": {},
   "outputs": [
    {
     "name": "stdout",
     "output_type": "stream",
     "text": [
      "in attempt 0 the loss was 2.360836, best 2.360836\n",
      "in attempt 1 the loss was 2.357521, best 2.357521\n",
      "in attempt 2 the loss was 2.326218, best 2.326218\n",
      "in attempt 3 the loss was 2.382219, best 2.326218\n",
      "in attempt 4 the loss was 2.360870, best 2.326218\n",
      "in attempt 5 the loss was 2.394448, best 2.326218\n",
      "in attempt 6 the loss was 2.328853, best 2.326218\n",
      "in attempt 7 the loss was 2.387959, best 2.326218\n",
      "in attempt 8 the loss was 2.379165, best 2.326218\n",
      "in attempt 9 the loss was 2.354404, best 2.326218\n",
      "in attempt 10 the loss was 2.415097, best 2.326218\n",
      "in attempt 11 the loss was 2.329676, best 2.326218\n",
      "in attempt 12 the loss was 2.350024, best 2.326218\n",
      "in attempt 13 the loss was 2.372131, best 2.326218\n",
      "in attempt 14 the loss was 2.317071, best 2.317071\n",
      "in attempt 15 the loss was 2.396029, best 2.317071\n",
      "in attempt 16 the loss was 2.347843, best 2.317071\n",
      "in attempt 17 the loss was 2.366700, best 2.317071\n",
      "in attempt 18 the loss was 2.372697, best 2.317071\n",
      "in attempt 19 the loss was 2.351048, best 2.317071\n",
      "in attempt 20 the loss was 2.386783, best 2.317071\n",
      "in attempt 21 the loss was 2.398840, best 2.317071\n",
      "in attempt 22 the loss was 2.376517, best 2.317071\n",
      "in attempt 23 the loss was 2.377704, best 2.317071\n",
      "in attempt 24 the loss was 2.370978, best 2.317071\n",
      "in attempt 25 the loss was 2.390077, best 2.317071\n",
      "in attempt 26 the loss was 2.312718, best 2.312718\n",
      "in attempt 27 the loss was 2.466346, best 2.312718\n",
      "in attempt 28 the loss was 2.367707, best 2.312718\n",
      "in attempt 29 the loss was 2.338302, best 2.312718\n",
      "in attempt 30 the loss was 2.347347, best 2.312718\n",
      "in attempt 31 the loss was 2.369965, best 2.312718\n",
      "in attempt 32 the loss was 2.346734, best 2.312718\n",
      "in attempt 33 the loss was 2.342639, best 2.312718\n",
      "in attempt 34 the loss was 2.393663, best 2.312718\n",
      "in attempt 35 the loss was 2.350128, best 2.312718\n",
      "in attempt 36 the loss was 2.349991, best 2.312718\n",
      "in attempt 37 the loss was 2.398763, best 2.312718\n",
      "in attempt 38 the loss was 2.402678, best 2.312718\n",
      "in attempt 39 the loss was 2.405482, best 2.312718\n",
      "in attempt 40 the loss was 2.359787, best 2.312718\n",
      "in attempt 41 the loss was 2.341334, best 2.312718\n",
      "in attempt 42 the loss was 2.373043, best 2.312718\n",
      "in attempt 43 the loss was 2.296701, best 2.296701\n",
      "in attempt 44 the loss was 2.404746, best 2.296701\n",
      "in attempt 45 the loss was 2.336343, best 2.296701\n",
      "in attempt 46 the loss was 2.360093, best 2.296701\n",
      "in attempt 47 the loss was 2.366878, best 2.296701\n",
      "in attempt 48 the loss was 2.385236, best 2.296701\n",
      "in attempt 49 the loss was 2.317547, best 2.296701\n",
      "in attempt 50 the loss was 2.381615, best 2.296701\n",
      "in attempt 51 the loss was 2.353281, best 2.296701\n",
      "in attempt 52 the loss was 2.411781, best 2.296701\n",
      "in attempt 53 the loss was 2.352478, best 2.296701\n",
      "in attempt 54 the loss was 2.371141, best 2.296701\n",
      "in attempt 55 the loss was 2.473927, best 2.296701\n",
      "in attempt 56 the loss was 2.428673, best 2.296701\n",
      "in attempt 57 the loss was 2.346244, best 2.296701\n",
      "in attempt 58 the loss was 2.348586, best 2.296701\n",
      "in attempt 59 the loss was 2.408556, best 2.296701\n",
      "in attempt 60 the loss was 2.377391, best 2.296701\n",
      "in attempt 61 the loss was 2.353946, best 2.296701\n",
      "in attempt 62 the loss was 2.270593, best 2.270593\n",
      "in attempt 63 the loss was 2.349401, best 2.270593\n",
      "in attempt 64 the loss was 2.335538, best 2.270593\n",
      "in attempt 65 the loss was 2.301192, best 2.270593\n",
      "in attempt 66 the loss was 2.371482, best 2.270593\n",
      "in attempt 67 the loss was 2.363770, best 2.270593\n",
      "in attempt 68 the loss was 2.337874, best 2.270593\n",
      "in attempt 69 the loss was 2.417874, best 2.270593\n",
      "in attempt 70 the loss was 2.337175, best 2.270593\n",
      "in attempt 71 the loss was 2.319621, best 2.270593\n",
      "in attempt 72 the loss was 2.324793, best 2.270593\n",
      "in attempt 73 the loss was 2.446854, best 2.270593\n",
      "in attempt 74 the loss was 2.348371, best 2.270593\n",
      "in attempt 75 the loss was 2.437549, best 2.270593\n",
      "in attempt 76 the loss was 2.334142, best 2.270593\n",
      "in attempt 77 the loss was 2.426094, best 2.270593\n",
      "in attempt 78 the loss was 2.357560, best 2.270593\n",
      "in attempt 79 the loss was 2.391438, best 2.270593\n",
      "in attempt 80 the loss was 2.382792, best 2.270593\n",
      "in attempt 81 the loss was 2.362482, best 2.270593\n",
      "in attempt 82 the loss was 2.371406, best 2.270593\n",
      "in attempt 83 the loss was 2.413406, best 2.270593\n",
      "in attempt 84 the loss was 2.359857, best 2.270593\n",
      "in attempt 85 the loss was 2.365995, best 2.270593\n",
      "in attempt 86 the loss was 2.342413, best 2.270593\n",
      "in attempt 87 the loss was 2.404012, best 2.270593\n",
      "in attempt 88 the loss was 2.317432, best 2.270593\n",
      "in attempt 89 the loss was 2.335717, best 2.270593\n",
      "in attempt 90 the loss was 2.374775, best 2.270593\n",
      "in attempt 91 the loss was 2.330724, best 2.270593\n",
      "in attempt 92 the loss was 2.346261, best 2.270593\n",
      "in attempt 93 the loss was 2.341972, best 2.270593\n",
      "in attempt 94 the loss was 2.347286, best 2.270593\n",
      "in attempt 95 the loss was 2.363337, best 2.270593\n",
      "in attempt 96 the loss was 2.368860, best 2.270593\n",
      "in attempt 97 the loss was 2.369292, best 2.270593\n",
      "in attempt 98 the loss was 2.328478, best 2.270593\n",
      "in attempt 99 the loss was 2.287061, best 2.270593\n"
     ]
    }
   ],
   "source": [
    "bestloss = float('inf')\n",
    "for num in range(100):\n",
    "    W = np.random.randn(3073, 10) * 0.0001\n",
    "    loss, _ = softmax_loss_naive(W, X_dev, y_dev, 0.0)\n",
    "    if (loss < bestloss):\n",
    "        bestloss = loss\n",
    "        bestW = W\n",
    "    print('in attempt %d the loss was %f, best %f' % (num, loss, bestloss))"
   ]
  },
  {
   "cell_type": "code",
   "execution_count": 17,
   "metadata": {},
   "outputs": [
    {
     "name": "stdout",
     "output_type": "stream",
     "text": [
      "Accuracy on train set 0.121837\n",
      "Accuracy on test set 0.124000\n"
     ]
    }
   ],
   "source": [
    "# How bestW perform on trainset\n",
    "scores = X_train.dot(bestW)\n",
    "y_pred = np.argmax(scores, axis=1)\n",
    "print('Accuracy on train set %f' % np.mean(y_pred == y_train))\n",
    "\n",
    "# evaluate performance of test set\n",
    "scores = X_test.dot(bestW)\n",
    "y_pred = np.argmax(scores, axis=1)\n",
    "print('Accuracy on test set %f' % np.mean(y_pred == y_test))"
   ]
  },
  {
   "cell_type": "markdown",
   "metadata": {},
   "source": [
    "Compare the performance when using random search with *regression classifier* and *softmax classifier*. You can see how much useful the softmax classifier is."
   ]
  },
  {
   "cell_type": "markdown",
   "metadata": {},
   "source": [
    "## Stochastic Gradient descent\n",
    "Even though it is possible to achieve closed-form solution with softmax classifier, it would be more complicated. In fact, we could achieve very good results with gradient descent approach. Additionally, in case of very large dataset, it is impossible to load the whole dataset into the memory. Gradient descent can help to optimize the loss function in batch. \n",
    "\n",
    "$$\\mathbf{W}^{t+1}=\\mathbf{W}^{t}−\\alpha \\frac{\\partial\\mathcal{L(\\mathbf{x};\\mathbf{W}^{t})}}{\\partial\\mathbf{W}^{t}}$$\n",
    "\n",
    "Where $\\alpha$ is the learning rate, $\\mathcal{L}$ is a loss function, and $\\mathbf{x}$ is a batch of training dataset."
   ]
  },
  {
   "cell_type": "code",
   "execution_count": 18,
   "metadata": {},
   "outputs": [
    {
     "name": "stdout",
     "output_type": "stream",
     "text": [
      "numerical: 0.957580 analytic: 0.957580, relative error: 2.843470e-08\n",
      "numerical: 0.343463 analytic: 0.343463, relative error: 1.115043e-07\n",
      "numerical: -0.197861 analytic: -0.197861, relative error: 2.315631e-08\n",
      "numerical: 0.741575 analytic: 0.741575, relative error: 7.901838e-09\n",
      "numerical: 2.335668 analytic: 2.335668, relative error: 1.758294e-08\n",
      "numerical: 1.912726 analytic: 1.912725, relative error: 3.854001e-08\n",
      "numerical: 0.380319 analytic: 0.380319, relative error: 1.059828e-07\n",
      "numerical: 2.700900 analytic: 2.700900, relative error: 2.173768e-08\n",
      "numerical: -0.387878 analytic: -0.387878, relative error: 5.774475e-08\n",
      "numerical: 0.780725 analytic: 0.780725, relative error: 3.864686e-08\n",
      "numerical: 0.081238 analytic: 0.081238, relative error: 3.087747e-07\n",
      "numerical: -0.368743 analytic: -0.368743, relative error: 5.942275e-08\n",
      "numerical: -4.930214 analytic: -4.930214, relative error: 7.371689e-09\n",
      "numerical: 0.295063 analytic: 0.295063, relative error: 4.580432e-09\n",
      "numerical: 1.008753 analytic: 1.008753, relative error: 2.071834e-09\n",
      "numerical: 0.403969 analytic: 0.403968, relative error: 3.772964e-08\n",
      "numerical: 0.515221 analytic: 0.515221, relative error: 3.671825e-08\n",
      "numerical: -1.805381 analytic: -1.805381, relative error: 5.765494e-10\n",
      "numerical: -0.875157 analytic: -0.875157, relative error: 1.752245e-08\n",
      "numerical: 1.050762 analytic: 1.050762, relative error: 4.093226e-08\n"
     ]
    }
   ],
   "source": [
    "# Complete the implementation of softmax_loss_naive and implement a (naive)\n",
    "# version of the gradient that uses nested loops.\n",
    "loss, grad = softmax_loss_naive(W, X_dev, y_dev, 0.0)\n",
    "\n",
    "# Use numeric gradient checking as a debugging tool.\n",
    "# The numeric gradient should be close to the analytic gradient.\n",
    "from gradient_check import grad_check_sparse\n",
    "f = lambda w: softmax_loss_naive(w, X_dev, y_dev, 0.0)[0]\n",
    "grad_numerical = grad_check_sparse(f, W, grad, 10)\n",
    "\n",
    "# gradient check with regularization\n",
    "loss, grad = softmax_loss_naive(W, X_dev, y_dev, 1e2)\n",
    "f = lambda w: softmax_loss_naive(w, X_dev, y_dev, 1e2)[0]\n",
    "grad_numerical = grad_check_sparse(f, W, grad, 10)"
   ]
  },
  {
   "cell_type": "code",
   "execution_count": 19,
   "metadata": {},
   "outputs": [
    {
     "name": "stdout",
     "output_type": "stream",
     "text": [
      "naive loss: 2.287061e+00 computed in 0.041976s\n",
      "vectorized loss: 2.287061e+00 computed in 0.002968s\n",
      "Loss difference: 0.000000\n",
      "Gradient difference: 0.000000\n"
     ]
    }
   ],
   "source": [
    "# Now that we have a naive implementation of the softmax loss function and its gradient,\n",
    "# implement a vectorized version in softmax_loss_vectorized.\n",
    "# The two versions should compute the same results, but the vectorized version should be\n",
    "# much faster.\n",
    "tic = time.time()\n",
    "loss_naive, grad_naive = softmax_loss_naive(W, X_dev, y_dev, 0.00001)\n",
    "toc = time.time()\n",
    "print('naive loss: %e computed in %fs' % (loss_naive, toc - tic))\n",
    "\n",
    "from classifiers.softmax import softmax_loss_vectorized\n",
    "tic = time.time()\n",
    "loss_vectorized, grad_vectorized = softmax_loss_vectorized(W, X_dev, y_dev, 0.00001)\n",
    "toc = time.time()\n",
    "print('vectorized loss: %e computed in %fs' % (loss_vectorized, toc - tic))\n",
    "\n",
    "# We use the Frobenius norm to compare the two versions\n",
    "# of the gradient.\n",
    "grad_difference = np.linalg.norm(grad_naive - grad_vectorized, ord='fro')\n",
    "print('Loss difference: %f' % np.abs(loss_naive - loss_vectorized))\n",
    "print('Gradient difference: %f' % grad_difference)"
   ]
  },
  {
   "cell_type": "code",
   "execution_count": 20,
   "metadata": {},
   "outputs": [
    {
     "name": "stdout",
     "output_type": "stream",
     "text": [
      "iteration 0 / 1500: loss 764.769145\n",
      "iteration 100 / 1500: loss 280.888573\n",
      "iteration 200 / 1500: loss 104.109090\n",
      "iteration 300 / 1500: loss 39.476971\n",
      "iteration 400 / 1500: loss 15.776461\n",
      "iteration 500 / 1500: loss 7.095380\n",
      "iteration 600 / 1500: loss 3.978096\n",
      "iteration 700 / 1500: loss 2.764915\n",
      "iteration 800 / 1500: loss 2.352868\n",
      "iteration 900 / 1500: loss 2.123981\n",
      "iteration 1000 / 1500: loss 2.138105\n",
      "iteration 1100 / 1500: loss 2.103233\n",
      "iteration 1200 / 1500: loss 2.081576\n",
      "iteration 1300 / 1500: loss 2.027946\n",
      "iteration 1400 / 1500: loss 2.094608\n",
      "That took 4.266904s\n"
     ]
    }
   ],
   "source": [
    "from classifiers.linear_classifier import *\n",
    "\n",
    "classifier = Softmax()\n",
    "tic = time.time()\n",
    "loss_hist = classifier.train(X_train, y_train, learning_rate=1e-7, reg=5e4,\n",
    "                                  num_iters=1500, verbose=True)\n",
    "toc = time.time()\n",
    "print('That took %fs' % (toc - tic))"
   ]
  },
  {
   "cell_type": "code",
   "execution_count": 21,
   "metadata": {},
   "outputs": [
    {
     "name": "stdout",
     "output_type": "stream",
     "text": [
      "training accuracy: 0.329980\n",
      "validation accuracy: 0.340000\n"
     ]
    }
   ],
   "source": [
    "# Write the Softmax.predict function and evaluate the performance on both the\n",
    "# training and validation set\n",
    "y_train_pred = classifier.predict(X_train)\n",
    "print('training accuracy: %f' % (np.mean(y_train == y_train_pred), ))\n",
    "y_val_pred = classifier.predict(X_val)\n",
    "print('validation accuracy: %f' % (np.mean(y_val == y_val_pred), ))"
   ]
  },
  {
   "cell_type": "code",
   "execution_count": 22,
   "metadata": {},
   "outputs": [
    {
     "data": {
      "image/png": "[encoded data removed]",
      "text/plain": [
       "<Figure size 720x576 with 1 Axes>"
      ]
     },
     "metadata": {
      "needs_background": "light"
     },
     "output_type": "display_data"
    }
   ],
   "source": [
    "# A useful debugging strategy is to plot the loss as a function of\n",
    "# iteration number:\n",
    "plt.plot(loss_hist)\n",
    "plt.xlabel('Iteration number')\n",
    "plt.ylabel('Loss value')\n",
    "plt.show()"
   ]
  },
  {
   "cell_type": "code",
   "execution_count": 23,
   "metadata": {},
   "outputs": [
    {
     "name": "stdout",
     "output_type": "stream",
     "text": [
      "softmax on raw pixels final test set accuracy: 33.90\n"
     ]
    }
   ],
   "source": [
    "# evaluate on test set\n",
    "# Evaluate the best softmax on test set\n",
    "y_test_pred = classifier.predict(X_test)\n",
    "test_accuracy = np.mean(y_test == y_test_pred)\n",
    "print('softmax on raw pixels final test set accuracy: %.2f' % (100*test_accuracy, ))"
   ]
  },
  {
   "cell_type": "code",
   "execution_count": null,
   "metadata": {},
   "outputs": [],
   "source": []
  }
 ],
 "metadata": {
  "anaconda-cloud": {},
  "kernelspec": {
   "display_name": "Python 3 (ipykernel)",
   "language": "python",
   "name": "python3"
  },
  "language_info": {
   "codemirror_mode": {
    "name": "ipython",
    "version": 3
   },
   "file_extension": ".py",
   "mimetype": "text/x-python",
   "name": "python",
   "nbconvert_exporter": "python",
   "pygments_lexer": "ipython3",
   "version": "3.9.12"
  }
 },
 "nbformat": 4,
 "nbformat_minor": 1
}
